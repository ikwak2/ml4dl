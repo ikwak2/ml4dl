{
  "nbformat": 4,
  "nbformat_minor": 0,
  "metadata": {
    "colab": {
      "provenance": [],
      "include_colab_link": true
    },
    "kernelspec": {
      "name": "python3",
      "display_name": "Python 3"
    },
    "language_info": {
      "name": "python"
    }
  },
  "cells": [
    {
      "cell_type": "markdown",
      "metadata": {
        "id": "view-in-github",
        "colab_type": "text"
      },
      "source": [
        "<a href=\"https://colab.research.google.com/github/ikwak2/ml4dl/blob/main/Team_select2.ipynb\" target=\"_parent\"><img src=\"https://colab.research.google.com/assets/colab-badge.svg\" alt=\"Open In Colab\"/></a>"
      ]
    },
    {
      "cell_type": "code",
      "execution_count": 52,
      "metadata": {
        "id": "uexONn6CuqpK"
      },
      "outputs": [],
      "source": [
        "str1 =  \"\"\"강다연\n",
        "강태영\n",
        "권동구\n",
        "권준석\n",
        "김경민\n",
        "김길수\n",
        "김명빈\n",
        "김유진\n",
        "나영은\n",
        "다니엘 고되 뎀시\n",
        "동유일\n",
        "라스 이바르 스카르셋\n",
        "박강비\n",
        "박준서\n",
        "박지후\n",
        "배현규\n",
        "변수연\n",
        "손약정\n",
        "안익균\n",
        "앙이한\n",
        "염지훈\n",
        "유현우\n",
        "윤효정\n",
        "이상윤\n",
        "이수종\n",
        "이승민\n",
        "이승재\n",
        "이용범\n",
        "임현오\n",
        "장지양\n",
        "조다영\n",
        "최형용\n",
        "허위림\n",
        "허윤빈\"\"\"\n"
      ]
    },
    {
      "cell_type": "code",
      "source": [
        "str1 = str1.split(\"\\n\")\n"
      ],
      "metadata": {
        "id": "cnCuTxPivJfm"
      },
      "execution_count": 53,
      "outputs": []
    },
    {
      "cell_type": "code",
      "source": [
        "import numpy as np\n",
        "\n",
        "shuffled_list = np.random.choice(str1, len(str1), replace = False  )"
      ],
      "metadata": {
        "id": "zCoqDQXqvOrj"
      },
      "execution_count": 54,
      "outputs": []
    },
    {
      "cell_type": "code",
      "source": [
        "## 이수종 학생은 2번 팀으로 하되 학생들 랜덤으로 팀편성 코드\n",
        "\n",
        "team_size = 4\n",
        "num_teams = len(shuffled_list) // team_size\n",
        "\n",
        "teams = []\n",
        "for i in range(num_teams):\n",
        "  team = shuffled_list[i * team_size:(i + 1) * team_size]\n",
        "  teams.append(team)\n",
        "\n",
        "# Handle remaining students\n",
        "remaining_students = shuffled_list[num_teams * team_size:]\n",
        "\n",
        "teams[0] = np.append(teams[0],remaining_students[0])\n",
        "teams[1] = np.append(teams[1],remaining_students[1])\n",
        "\n",
        "for i, team in enumerate(teams):\n",
        "  if '이수종' in team:\n",
        "    break\n",
        "teamsN= [1,2,3,4,5,6,7,8]\n",
        "\n",
        "for j in range(len(teams)) :\n",
        "  if ((j != 1) & (j !=i)) :\n",
        "    teamsN[j] = teams[j]\n",
        "  elif (j == 1) :\n",
        "    teamsN[1] = teams[i]\n",
        "  else :\n",
        "    teamsN[i] = teams[1]\n",
        "\n",
        "for i, team in enumerate(teamsN):\n",
        "  print(f\"Team {i + 1}: {', '.join(team)}\")\n",
        "\n"
      ],
      "metadata": {
        "id": "YryQMBlnaT5U",
        "outputId": "adfdd742-b381-4879-c093-a1f894ffef2c",
        "colab": {
          "base_uri": "https://localhost:8080/"
        }
      },
      "execution_count": 72,
      "outputs": [
        {
          "output_type": "stream",
          "name": "stdout",
          "text": [
            "Team 1: 안익균, 손약정, 윤효정, 나영은, 박지후\n",
            "Team 2: 라스 이바르 스카르셋, 박강비, 이수종, 장지양\n",
            "Team 3: 동유일, 염지훈, 최형용, 이승민\n",
            "Team 4: 강태영, 허윤빈, 이승재, 앙이한\n",
            "Team 5: 허위림, 권준석, 임현오, 김경민, 이용범\n",
            "Team 6: 유현우, 배현규, 김유진, 다니엘 고되 뎀시\n",
            "Team 7: 김길수, 강다연, 김명빈, 변수연\n",
            "Team 8: 이상윤, 권동구, 조다영, 박준서\n"
          ]
        }
      ]
    },
    {
      "cell_type": "code",
      "source": [],
      "metadata": {
        "id": "PhoOz1gZZeWG"
      },
      "execution_count": null,
      "outputs": []
    }
  ]
}