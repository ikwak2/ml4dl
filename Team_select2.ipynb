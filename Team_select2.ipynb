{
  "nbformat": 4,
  "nbformat_minor": 0,
  "metadata": {
    "colab": {
      "provenance": [],
      "include_colab_link": true
    },
    "kernelspec": {
      "name": "python3",
      "display_name": "Python 3"
    },
    "language_info": {
      "name": "python"
    }
  },
  "cells": [
    {
      "cell_type": "markdown",
      "metadata": {
        "id": "view-in-github",
        "colab_type": "text"
      },
      "source": [
        "<a href=\"https://colab.research.google.com/github/ikwak2/ml4dl/blob/main/Team_select2.ipynb\" target=\"_parent\"><img src=\"https://colab.research.google.com/assets/colab-badge.svg\" alt=\"Open In Colab\"/></a>"
      ]
    },
    {
      "cell_type": "code",
      "execution_count": 3,
      "metadata": {
        "id": "uexONn6CuqpK"
      },
      "outputs": [],
      "source": [
        "str1 =  \"\"\"강다연\n",
        "강태영\n",
        "권동구\n",
        "김경민\n",
        "김길수\n",
        "김명빈\n",
        "김유진\n",
        "나영은\n",
        "동유일\n",
        "라스 이바르 스카르셋\n",
        "박준서\n",
        "박지후\n",
        "배현규\n",
        "손약정\n",
        "안익균\n",
        "앙이한\n",
        "유현우\n",
        "윤효정\n",
        "이수종\n",
        "이승민\n",
        "이승재\n",
        "이용범\n",
        "임현오\n",
        "장지양\n",
        "조다영\n",
        "최형용\n",
        "허위림\n",
        "허윤빈\"\"\"\n"
      ]
    },
    {
      "cell_type": "code",
      "source": [
        "str1 = str1.split(\"\\n\")\n"
      ],
      "metadata": {
        "id": "cnCuTxPivJfm"
      },
      "execution_count": 4,
      "outputs": []
    },
    {
      "cell_type": "code",
      "source": [
        "import numpy as np\n",
        "\n",
        "shuffled_list = np.random.choice(str1, len(str1), replace = False  )"
      ],
      "metadata": {
        "id": "zCoqDQXqvOrj"
      },
      "execution_count": 5,
      "outputs": []
    },
    {
      "cell_type": "code",
      "source": [
        "## 이수종 학생은 3번 팀으로 하되 학생들 랜덤으로 팀편성 코드\n",
        "\n",
        "team_size = 4\n",
        "num_teams = len(shuffled_list) // team_size\n",
        "\n",
        "teams = []\n",
        "for i in range(num_teams):\n",
        "  team = shuffled_list[i * team_size:(i + 1) * team_size]\n",
        "  teams.append(team)\n",
        "\n",
        "# Handle remaining students\n",
        "remaining_students = shuffled_list[num_teams * team_size:]\n",
        "\n",
        "teams[0] = np.append(teams[0],remaining_students[0])\n",
        "teams[1] = np.append(teams[1],remaining_students[1])\n",
        "\n",
        "for i, team in enumerate(teams):\n",
        "  if '이수종' in team:\n",
        "    break\n",
        "teamsN= [1,2,3,4,5,6,7,8]\n",
        "\n",
        "for j in range(len(teams)) :\n",
        "  if ((j != 2) & (j !=i)) :\n",
        "    teamsN[j] = teams[j]\n",
        "  elif (j == 2) :\n",
        "    teamsN[2] = teams[i]\n",
        "  else :\n",
        "    teamsN[i] = teams[2]\n",
        "\n",
        "for i, tm in enumerate(teamsN):\n",
        "  print(f\"Team {i + 1}: {', '.join(tm)}\")\n",
        "\n"
      ],
      "metadata": {
        "id": "YryQMBlnaT5U",
        "outputId": "0bcd6d56-50d1-4fce-f080-0e7bb7c78411",
        "colab": {
          "base_uri": "https://localhost:8080/"
        }
      },
      "execution_count": 6,
      "outputs": [
        {
          "output_type": "stream",
          "name": "stdout",
          "text": [
            "Team 1: 이상윤, 라스 이바르 스카르셋, 김경민, 장지양, 임현오\n",
            "Team 2: 동유일, 이승재, 안익균, 이용범, 권동구\n",
            "Team 3: 손약정, 윤효정, 변수연, 이수종\n",
            "Team 4: 염지훈, 최형용, 박강비, 김유진\n",
            "Team 5: 박준서, 허위림, 나영은, 유현우\n",
            "Team 6: 권준석, 배현규, 김길수, 다니엘 고되 뎀시\n",
            "Team 7: 강태영, 강다연, 김명빈, 허윤빈\n",
            "Team 8: 박지후, 앙이한, 이승민, 조다영\n"
          ]
        }
      ]
    },
    {
      "cell_type": "code",
      "source": [],
      "metadata": {
        "id": "yBvrwlJeXoyg"
      },
      "execution_count": 6,
      "outputs": []
    }
  ]
}