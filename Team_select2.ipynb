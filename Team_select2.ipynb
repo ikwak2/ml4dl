{
  "nbformat": 4,
  "nbformat_minor": 0,
  "metadata": {
    "colab": {
      "provenance": [],
      "include_colab_link": true
    },
    "kernelspec": {
      "name": "python3",
      "display_name": "Python 3"
    },
    "language_info": {
      "name": "python"
    }
  },
  "cells": [
    {
      "cell_type": "markdown",
      "metadata": {
        "id": "view-in-github",
        "colab_type": "text"
      },
      "source": [
        "<a href=\"https://colab.research.google.com/github/ikwak2/ml4dl/blob/main/Team_select2.ipynb\" target=\"_parent\"><img src=\"https://colab.research.google.com/assets/colab-badge.svg\" alt=\"Open In Colab\"/></a>"
      ]
    },
    {
      "cell_type": "code",
      "execution_count": 1,
      "metadata": {
        "id": "uexONn6CuqpK"
      },
      "outputs": [],
      "source": [
        "str1 =  \"\"\"강다연\n",
        "강태영\n",
        "권동구\n",
        "김경민\n",
        "김길수\n",
        "김명빈\n",
        "김유진\n",
        "나영은\n",
        "동유일\n",
        "라스 이바르 스카르셋\n",
        "박준서\n",
        "박지후\n",
        "배현규\n",
        "손약정\n",
        "안익균\n",
        "앙이한\n",
        "유현우\n",
        "윤효정\n",
        "이수종\n",
        "이승민\n",
        "이승재\n",
        "이용범\n",
        "임현오\n",
        "장지양\n",
        "조다영\n",
        "최형용\n",
        "허위림\n",
        "허윤빈\"\"\"\n"
      ]
    },
    {
      "cell_type": "code",
      "source": [
        "str1 = str1.split(\"\\n\")\n"
      ],
      "metadata": {
        "id": "cnCuTxPivJfm"
      },
      "execution_count": 2,
      "outputs": []
    },
    {
      "cell_type": "code",
      "source": [
        "len(str1)"
      ],
      "metadata": {
        "id": "j3UYqnIVNWr7",
        "outputId": "347ebf86-dfb6-4d20-c482-788a45cd1923",
        "colab": {
          "base_uri": "https://localhost:8080/"
        }
      },
      "execution_count": 3,
      "outputs": [
        {
          "output_type": "execute_result",
          "data": {
            "text/plain": [
              "28"
            ]
          },
          "metadata": {},
          "execution_count": 3
        }
      ]
    },
    {
      "cell_type": "code",
      "source": [
        "import numpy as np\n",
        "\n",
        "shuffled_list = np.random.choice(str1, len(str1), replace = False  )"
      ],
      "metadata": {
        "id": "zCoqDQXqvOrj"
      },
      "execution_count": 4,
      "outputs": []
    },
    {
      "cell_type": "code",
      "source": [
        "## 이수종 학생은 3번 팀으로 하되 학생들 랜덤으로 팀편성 코드\n",
        "\n",
        "team_size = 4\n",
        "num_teams = len(shuffled_list) // team_size\n",
        "\n",
        "teams = []\n",
        "for i in range(num_teams):\n",
        "  team = shuffled_list[i * team_size:(i + 1) * team_size]\n",
        "  teams.append(team)\n",
        "\n",
        "# Handle remaining students\n",
        "#remaining_students = shuffled_list[num_teams * team_size:]\n",
        "\n",
        "#teams[0] = np.append(teams[0],remaining_students[0])\n",
        "#teams[1] = np.append(teams[1],remaining_students[1])\n",
        "\n",
        "for i, team in enumerate(teams):\n",
        "  if '이수종' in team:\n",
        "    break\n",
        "teamsN= [1,2,3,4,5,6,7]\n",
        "\n",
        "for j in range(len(teams)) :\n",
        "  if ((j != 2) & (j !=i)) :\n",
        "    teamsN[j] = teams[j]\n",
        "  elif (j == 2) :\n",
        "    teamsN[2] = teams[i]\n",
        "  else :\n",
        "    teamsN[i] = teams[2]\n",
        "\n",
        "#for i, tm in enumerate(teamsN):\n",
        "#  print(f\"Team {i + 1}: {', '.join(tm)}\")\n",
        "\n"
      ],
      "metadata": {
        "id": "YryQMBlnaT5U"
      },
      "execution_count": 8,
      "outputs": []
    },
    {
      "cell_type": "code",
      "source": [
        "teamsN"
      ],
      "metadata": {
        "id": "yBvrwlJeXoyg",
        "outputId": "65df8e08-cd88-4279-dcff-23e48e9bc698",
        "colab": {
          "base_uri": "https://localhost:8080/"
        }
      },
      "execution_count": 9,
      "outputs": [
        {
          "output_type": "execute_result",
          "data": {
            "text/plain": [
              "[array(['나영은', '유현우', '이승민', '김길수'], dtype='<U11'),\n",
              " array(['임현오', '최형용', '안익균', '조다영'], dtype='<U11'),\n",
              " array(['허윤빈', '이수종', '윤효정', '동유일'], dtype='<U11'),\n",
              " array(['김경민', '김유진', '허위림', '강태영'], dtype='<U11'),\n",
              " array(['권동구', '박준서', '장지양', '앙이한'], dtype='<U11'),\n",
              " array(['김명빈', '박지후', '라스 이바르 스카르셋', '이용범'], dtype='<U11'),\n",
              " array(['손약정', '강다연', '배현규', '이승재'], dtype='<U11')]"
            ]
          },
          "metadata": {},
          "execution_count": 9
        }
      ]
    },
    {
      "cell_type": "code",
      "source": [],
      "metadata": {
        "id": "RT-Xx2ImNmkl"
      },
      "execution_count": null,
      "outputs": []
    }
  ]
}