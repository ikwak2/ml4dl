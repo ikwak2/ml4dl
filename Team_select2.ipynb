{
  "nbformat": 4,
  "nbformat_minor": 0,
  "metadata": {
    "colab": {
      "provenance": [],
      "include_colab_link": true
    },
    "kernelspec": {
      "name": "python3",
      "display_name": "Python 3"
    },
    "language_info": {
      "name": "python"
    }
  },
  "cells": [
    {
      "cell_type": "markdown",
      "metadata": {
        "id": "view-in-github",
        "colab_type": "text"
      },
      "source": [
        "<a href=\"https://colab.research.google.com/github/ikwak2/ml4dl/blob/main/Team_select2.ipynb\" target=\"_parent\"><img src=\"https://colab.research.google.com/assets/colab-badge.svg\" alt=\"Open In Colab\"/></a>"
      ]
    },
    {
      "cell_type": "code",
      "execution_count": 1,
      "metadata": {
        "id": "uexONn6CuqpK"
      },
      "outputs": [],
      "source": [
        "str1 =  \"\"\"강다연\n",
        "강태영\n",
        "권동구\n",
        "권준석\n",
        "김경민\n",
        "김길수\n",
        "김명빈\n",
        "김유진\n",
        "나영은\n",
        "다니엘 고되 뎀시\n",
        "동유일\n",
        "라스 이바르 스카르셋\n",
        "박강비\n",
        "박준서\n",
        "박지후\n",
        "배현규\n",
        "변수연\n",
        "산나 크리스테리\n",
        "손약정\n",
        "신예림\n",
        "안익균\n",
        "앙이한\n",
        "염지훈\n",
        "유현우\n",
        "윤효정\n",
        "이상윤\n",
        "이수종\n",
        "이승민\n",
        "이승재\n",
        "이용범\n",
        "임연진\n",
        "임현오\n",
        "장지양\n",
        "조다영\n",
        "최형용\n",
        "허위림\n",
        "허윤빈\"\"\"\n"
      ]
    },
    {
      "cell_type": "code",
      "source": [
        "str1 = str1.split(\"\\n\")\n"
      ],
      "metadata": {
        "id": "cnCuTxPivJfm"
      },
      "execution_count": 2,
      "outputs": []
    },
    {
      "cell_type": "code",
      "source": [
        "import numpy as np\n",
        "\n",
        "shuffled_list = np.random.choice(str1, len(str1), replace = False  )"
      ],
      "metadata": {
        "id": "zCoqDQXqvOrj"
      },
      "execution_count": 3,
      "outputs": []
    },
    {
      "cell_type": "code",
      "source": [
        "for i in range(len(str1)) :\n",
        "  if i % 4 == 0 :\n",
        "    print(\"New team\")\n",
        "  print( shuffled_list[i])"
      ],
      "metadata": {
        "colab": {
          "base_uri": "https://localhost:8080/"
        },
        "id": "d_8ksEanvVwD",
        "outputId": "254a3164-5039-414e-b3e3-34061aa3a953"
      },
      "execution_count": 4,
      "outputs": [
        {
          "output_type": "stream",
          "name": "stdout",
          "text": [
            "New team\n",
            "동유일\n",
            "조다영\n",
            "이용범\n",
            "라스 이바르 스카르셋\n",
            "New team\n",
            "허위림\n",
            "변수연\n",
            "최형용\n",
            "신예림\n",
            "New team\n",
            "김경민\n",
            "이승민\n",
            "안익균\n",
            "권준석\n",
            "New team\n",
            "김명빈\n",
            "산나 크리스테리\n",
            "배현규\n",
            "권동구\n",
            "New team\n",
            "윤효정\n",
            "유현우\n",
            "앙이한\n",
            "허윤빈\n",
            "New team\n",
            "손약정\n",
            "임연진\n",
            "나영은\n",
            "김유진\n",
            "New team\n",
            "김길수\n",
            "이상윤\n",
            "다니엘 고되 뎀시\n",
            "강태영\n",
            "New team\n",
            "박지후\n",
            "이수종\n",
            "이승재\n",
            "박준서\n",
            "New team\n",
            "장지양\n",
            "염지훈\n",
            "박강비\n",
            "임현오\n",
            "New team\n",
            "강다연\n"
          ]
        }
      ]
    },
    {
      "cell_type": "code",
      "source": [],
      "metadata": {
        "id": "zpH2Nad4vmCj"
      },
      "execution_count": null,
      "outputs": []
    }
  ]
}