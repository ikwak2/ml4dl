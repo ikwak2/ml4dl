{
  "nbformat": 4,
  "nbformat_minor": 0,
  "metadata": {
    "colab": {
      "provenance": [],
      "authorship_tag": "ABX9TyP9M13y9JdiEyC/livwTPOL",
      "include_colab_link": true
    },
    "kernelspec": {
      "name": "python3",
      "display_name": "Python 3"
    },
    "language_info": {
      "name": "python"
    }
  },
  "cells": [
    {
      "cell_type": "markdown",
      "metadata": {
        "id": "view-in-github",
        "colab_type": "text"
      },
      "source": [
        "<a href=\"https://colab.research.google.com/github/ikwak2/ml4dl/blob/main/Team_select.ipynb\" target=\"_parent\"><img src=\"https://colab.research.google.com/assets/colab-badge.svg\" alt=\"Open In Colab\"/></a>"
      ]
    },
    {
      "cell_type": "code",
      "execution_count": 2,
      "metadata": {
        "id": "uexONn6CuqpK"
      },
      "outputs": [],
      "source": [
        "str1 =  \"\"\"김진재\n",
        "김현권\n",
        "김효진\n",
        "나다경\n",
        "나해란\n",
        "문민지\n",
        "샤리니 미탈\n",
        "송태원\n",
        "스테판 요르예 토믹\n",
        "안성현\n",
        "안이현\n",
        "안형주\n",
        "예라이 코데로 카라스코\n",
        "유나현\n",
        "유도현\n",
        "유재은\n",
        "이상민\n",
        "이승윤\n",
        "이영민\n",
        "이윤혁\n",
        "이지원\n",
        "장영진\n",
        "장은석\n",
        "장효정\n",
        "전경훈\n",
        "정승욱\n",
        "정영주\n",
        "정종오\n",
        "조세 미궬 퍼난\n",
        "추승민\n",
        "프란시스코 자비에 헤르난데즈 마틴\n",
        "허희진\n",
        "혜열정\"\"\"\n"
      ]
    },
    {
      "cell_type": "code",
      "source": [
        "str1 = str1.split(\"\\n\")\n"
      ],
      "metadata": {
        "id": "cnCuTxPivJfm"
      },
      "execution_count": 3,
      "outputs": []
    },
    {
      "cell_type": "code",
      "source": [
        "import numpy as np\n",
        "\n",
        "shuffled_list = np.random.choice(str1, len(str1), replace = False  )"
      ],
      "metadata": {
        "id": "zCoqDQXqvOrj"
      },
      "execution_count": 5,
      "outputs": []
    },
    {
      "cell_type": "code",
      "source": [
        "for i in range(len(str1)) :\n",
        "  if i % 4 == 0 :\n",
        "    print(\"New team\")\n",
        "  print( shuffled_list[i])"
      ],
      "metadata": {
        "colab": {
          "base_uri": "https://localhost:8080/"
        },
        "id": "d_8ksEanvVwD",
        "outputId": "9ee0ba5f-b7c7-4837-9392-8d9c0075b854"
      },
      "execution_count": 6,
      "outputs": [
        {
          "output_type": "stream",
          "name": "stdout",
          "text": [
            "New team\n",
            "유재은\n",
            "나다경\n",
            "송태원\n",
            "이영민\n",
            "New team\n",
            "조세 미궬 퍼난\n",
            "이지원\n",
            "스테판 요르예 토믹\n",
            "이승윤\n",
            "New team\n",
            "정종오\n",
            "예라이 코데로 카라스코\n",
            "장효정\n",
            "이상민\n",
            "New team\n",
            "정영주\n",
            "장은석\n",
            "허희진\n",
            "유도현\n",
            "New team\n",
            "안이현\n",
            "안형주\n",
            "추승민\n",
            "나해란\n",
            "New team\n",
            "혜열정\n",
            "샤리니 미탈\n",
            "김효진\n",
            "장영진\n",
            "New team\n",
            "김현권\n",
            "유나현\n",
            "안성현\n",
            "문민지\n",
            "New team\n",
            "정승욱\n",
            "전경훈\n",
            "이윤혁\n",
            "김진재\n",
            "New team\n",
            "프란시스코 자비에 헤르난데즈 마틴\n"
          ]
        }
      ]
    },
    {
      "cell_type": "code",
      "source": [],
      "metadata": {
        "id": "zpH2Nad4vmCj"
      },
      "execution_count": null,
      "outputs": []
    }
  ]
}