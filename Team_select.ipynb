{
  "nbformat": 4,
  "nbformat_minor": 0,
  "metadata": {
    "colab": {
      "provenance": [],
      "include_colab_link": true
    },
    "kernelspec": {
      "name": "python3",
      "display_name": "Python 3"
    },
    "language_info": {
      "name": "python"
    }
  },
  "cells": [
    {
      "cell_type": "markdown",
      "metadata": {
        "id": "view-in-github",
        "colab_type": "text"
      },
      "source": [
        "<a href=\"https://colab.research.google.com/github/ikwak2/ml4dl/blob/main/Team_select.ipynb\" target=\"_parent\"><img src=\"https://colab.research.google.com/assets/colab-badge.svg\" alt=\"Open In Colab\"/></a>"
      ]
    },
    {
      "cell_type": "code",
      "execution_count": 1,
      "metadata": {
        "id": "uexONn6CuqpK"
      },
      "outputs": [],
      "source": [
        "str1 =  \"\"\"강다연\n",
        "강태영\n",
        "김동우\n",
        "김미경\n",
        "김성진\n",
        "김세린\n",
        "김유진\n",
        "김재환\n",
        "김준형\n",
        "김진현\n",
        "김현동\n",
        "문희경\n",
        "박범준\n",
        "박원형\n",
        "박혜원\n",
        "박효영\n",
        "배현규\n",
        "송채린\n",
        "스벤 스쾰얼드\n",
        "신예림\n",
        "안익균\n",
        "양현우\n",
        "우단비\n",
        "원소연\n",
        "유르겐 반 더 블롬\n",
        "윤한세\n",
        "윤효정\n",
        "이나현\n",
        "이용범\n",
        "이유진\n",
        "이은승\n",
        "이혜령\n",
        "전소연\n",
        "정은우\n",
        "최은서\n",
        "최형용\n",
        "한동희\"\"\"\n"
      ]
    },
    {
      "cell_type": "code",
      "source": [
        "str1 = str1.split(\"\\n\")\n"
      ],
      "metadata": {
        "id": "cnCuTxPivJfm"
      },
      "execution_count": 2,
      "outputs": []
    },
    {
      "cell_type": "code",
      "source": [
        "import numpy as np\n",
        "\n",
        "shuffled_list = np.random.choice(str1, len(str1), replace = False  )"
      ],
      "metadata": {
        "id": "zCoqDQXqvOrj"
      },
      "execution_count": 3,
      "outputs": []
    },
    {
      "cell_type": "code",
      "source": [
        "for i in range(len(str1)) :\n",
        "  if i % 5 == 0 :\n",
        "    print(\"New team\")\n",
        "  print( shuffled_list[i])"
      ],
      "metadata": {
        "colab": {
          "base_uri": "https://localhost:8080/"
        },
        "id": "d_8ksEanvVwD",
        "outputId": "87271065-a27d-4045-f04f-ffd0d6877449"
      },
      "execution_count": 7,
      "outputs": [
        {
          "output_type": "stream",
          "name": "stdout",
          "text": [
            "New team\n",
            "김진현\n",
            "스벤 스쾰얼드\n",
            "김유진\n",
            "윤한세\n",
            "박효영\n",
            "New team\n",
            "정은우\n",
            "김미경\n",
            "문희경\n",
            "강태영\n",
            "한동희\n",
            "New team\n",
            "이은승\n",
            "강다연\n",
            "원소연\n",
            "김현동\n",
            "김동우\n",
            "New team\n",
            "안익균\n",
            "우단비\n",
            "이유진\n",
            "양현우\n",
            "송채린\n",
            "New team\n",
            "김성진\n",
            "김준형\n",
            "박혜원\n",
            "전소연\n",
            "박원형\n",
            "New team\n",
            "이용범\n",
            "배현규\n",
            "최은서\n",
            "김세린\n",
            "김재환\n",
            "New team\n",
            "최형용\n",
            "유르겐 반 더 블롬\n",
            "신예림\n",
            "윤효정\n",
            "이혜령\n",
            "New team\n",
            "이나현\n",
            "박범준\n"
          ]
        }
      ]
    },
    {
      "cell_type": "code",
      "source": [],
      "metadata": {
        "id": "zpH2Nad4vmCj"
      },
      "execution_count": null,
      "outputs": []
    }
  ]
}